{
 "cells": [
  {
   "cell_type": "code",
   "execution_count": 2,
   "metadata": {},
   "outputs": [],
   "source": [
    "import numpy as np\n",
    "import pandas as pd\n",
    "import os"
   ]
  },
  {
   "cell_type": "code",
   "execution_count": 3,
   "metadata": {},
   "outputs": [],
   "source": [
    "hh = pd.read_csv('data/psam_h06.csv', dtype={'RT': 'str', 'SERIALNO': 'str'})\n",
    "per = pd.read_csv('data/psam_p06.csv',dtype={'RT': 'str', 'SERIALNO': 'str', 'NAICSP': 'str'})"
   ]
  },
  {
   "cell_type": "code",
   "execution_count": 4,
   "metadata": {},
   "outputs": [
    {
     "name": "stdout",
     "output_type": "stream",
     "text": [
      "making copies in memory ...\n"
     ]
    }
   ],
   "source": [
    "puma_list = [4101,\n",
    " 4102,\n",
    " 7701,\n",
    " 7702,\n",
    " 7703,\n",
    " 7704,\n",
    " 11300,\n",
    " 6701,\n",
    " 6702,\n",
    " 6703,\n",
    " 6704,\n",
    " 6705,\n",
    " 6706,\n",
    " 6707,\n",
    " 6708,\n",
    " 6709,\n",
    " 6710,\n",
    " 6711,\n",
    " 6712,\n",
    " 4701,\n",
    " 4702,\n",
    " 101,\n",
    " 102,\n",
    " 103,\n",
    " 104,\n",
    " 105,\n",
    " 106,\n",
    " 107,\n",
    " 108,\n",
    " 109,\n",
    " 110,\n",
    " 1700,\n",
    " 9901,\n",
    " 9902,\n",
    " 9903,\n",
    " 9904,\n",
    " 5301,\n",
    " 5302,\n",
    " 5303,\n",
    " 1301,\n",
    " 1302,\n",
    " 1303,\n",
    " 1304,\n",
    " 1305,\n",
    " 1306,\n",
    " 1307,\n",
    " 1308,\n",
    " 9501,\n",
    " 1309,\n",
    " 9502,\n",
    " 9503,\n",
    " 8501,\n",
    " 8502,\n",
    " 8503,\n",
    " 8504,\n",
    " 8505,\n",
    " 8506,\n",
    " 8507,\n",
    " 8508,\n",
    " 8509,\n",
    " 8510,\n",
    " 8511,\n",
    " 8512,\n",
    " 8513,\n",
    " 8514,\n",
    " 7501,\n",
    " 7502,\n",
    " 7503,\n",
    " 7504,\n",
    " 7505,\n",
    " 7506,\n",
    " 7507,\n",
    " 10100,\n",
    " 5500,\n",
    " 8101,\n",
    " 8102,\n",
    " 8103,\n",
    " 8104,\n",
    " 8105,\n",
    " 8106,\n",
    " 6101,\n",
    " 6102,\n",
    " 6103,\n",
    " 9701,\n",
    " 9702,\n",
    " 9703,\n",
    " 8701,\n",
    " 8702]\n",
    "\n",
    "print('making copies in memory ...')\n",
    "hh_update = hh.copy()\n",
    "per_update = per.copy()\n",
    "\n",
    "\n",
    "# select puma within the region\n",
    "hh_update = hh[hh['PUMA'].isin(puma_list)]\n",
    "per_update = per_update[per_update['PUMA'].isin(puma_list)]\n",
    "\n",
    "# exclude zero-person household\n",
    "hh_update= hh_update[hh_update['NP']>0]"
   ]
  },
  {
   "cell_type": "code",
   "execution_count": 5,
   "metadata": {},
   "outputs": [],
   "source": [
    "per_update['pemploy'] = 999"
   ]
  },
  {
   "cell_type": "code",
   "execution_count": 6,
   "metadata": {},
   "outputs": [
    {
     "data": {
      "text/plain": [
       "999    314622\n",
       "2      294208\n",
       "Name: pemploy, dtype: int64"
      ]
     },
     "execution_count": 6,
     "metadata": {},
     "output_type": "execute_result"
    }
   ],
   "source": [
    "per_update.loc[(per_update['ESR']==1)|(per_update['ESR']==2)|(per_update['ESR']==4)|(per_update['ESR']==5), 'pemploy'] = 2 # part-time worker\n",
    "per_update['pemploy'].value_counts()"
   ]
  },
  {
   "cell_type": "code",
   "execution_count": 7,
   "metadata": {},
   "outputs": [
    {
     "data": {
      "text/plain": [
       "999    314622\n",
       "1      221073\n",
       "2       73135\n",
       "Name: pemploy, dtype: int64"
      ]
     },
     "execution_count": 7,
     "metadata": {},
     "output_type": "execute_result"
    }
   ],
   "source": [
    "per_update.loc[\n",
    "    ((per_update['ESR']==1)|(per_update['ESR']==2)|(per_update['ESR']==4)|(per_update['ESR']==5))&\n",
    "    ((per_update['WKW']==1)|(per_update['WKW']==2)|(per_update['WKW']==3)|(per_update['WKW']==4))&\n",
    "                      (per_update['WKHP']>=35),\n",
    "                       'pemploy'\n",
    "                       ] = 1 # full-time worker\n",
    "per_update['pemploy'].value_counts()"
   ]
  },
  {
   "cell_type": "code",
   "execution_count": 10,
   "metadata": {},
   "outputs": [
    {
     "data": {
      "text/plain": [
       "1      221073\n",
       "999    203626\n",
       "4      110996\n",
       "2       73135\n",
       "Name: pemploy, dtype: int64"
      ]
     },
     "execution_count": 10,
     "metadata": {},
     "output_type": "execute_result"
    }
   ],
   "source": [
    "per_update.loc[pd.isna(per_update['ESR']), 'pemploy'] = 4 # student under 16\n",
    "per_update['pemploy'].value_counts()"
   ]
  },
  {
   "cell_type": "code",
   "execution_count": 11,
   "metadata": {},
   "outputs": [],
   "source": [
    "per_update.loc[(per_update['ESR']==6)|(per_update['ESR']==3), 'pemploy'] = 3  # not in the labor force"
   ]
  },
  {
   "cell_type": "code",
   "execution_count": 13,
   "metadata": {},
   "outputs": [
    {
     "data": {
      "text/plain": [
       "1    221073\n",
       "3    203626\n",
       "4    110996\n",
       "2     73135\n",
       "Name: pemploy, dtype: int64"
      ]
     },
     "execution_count": 13,
     "metadata": {},
     "output_type": "execute_result"
    }
   ],
   "source": [
    "per_update['pemploy'].value_counts()"
   ]
  },
  {
   "cell_type": "code",
   "execution_count": 14,
   "metadata": {},
   "outputs": [
    {
     "data": {
      "text/plain": [
       "3      458304\n",
       "999     99661\n",
       "1       36574\n",
       "2       14291\n",
       "Name: pstudent, dtype: int64"
      ]
     },
     "execution_count": 14,
     "metadata": {},
     "output_type": "execute_result"
    }
   ],
   "source": [
    "per_update['pstudent'] = 999\n",
    "per_update.loc[(per_update['SCHG']==1)|(per_update['SCHG']==2)|(per_update['SCHG']==3)|(per_update['SCHG']==4)|(per_update['SCHG']==5), 'pstudent'] = 1 # pre-school through grade 12 student\n",
    "per_update.loc[(per_update['SCHG']==6)|(per_update['SCHG']==7), 'pstudent'] = 2 # university/professional school student\n",
    "per_update.loc[pd.isnull(per_update['SCHG']), 'pstudent'] = 3 # non-student\n",
    "per_update['pstudent'].value_counts()"
   ]
  },
  {
   "cell_type": "code",
   "execution_count": 16,
   "metadata": {},
   "outputs": [],
   "source": [
    "hh_update['hh_income_2018'] = 999\n",
    "hh_update.loc[hh_update['ADJINC']==1080470, 'hh_income_2018'] = round((hh_update['HINCP']/1.0)*1.001264*1.07910576,2)\n",
    "hh_update.loc[hh_update['ADJINC']==1073449, 'hh_income_2018'] = round((hh_update['HINCP']/1.0)*1.007588*1.06536503,2)\n",
    "hh_update.loc[hh_update['ADJINC']==1054606, 'hh_income_2018'] = round((hh_update['HINCP']/1.0)*1.011189*1.04293629,2)\n",
    "hh_update.loc[hh_update['ADJINC']==1031452, 'hh_income_2018'] = round((hh_update['HINCP']/1.0)*1.013097*1.01811790,2)\n",
    "hh_update.loc[hh_update['ADJINC']==1010145, 'hh_income_2018'] = round((hh_update['HINCP']/1.0)*1.010145*1.00000000,2)\n",
    "\n",
    "hh_update['hh_income_2017'] = hh_update['hh_income_2018'] * 0.97695\n",
    "hh_update['hh_income_2010'] = hh_update['hh_income_2018'] * 0.87208\n",
    "hh_update['hh_income_2000'] = hh_update['hh_income_2018'] * 0.68602"
   ]
  },
  {
   "cell_type": "code",
   "execution_count": 1,
   "metadata": {},
   "outputs": [
    {
     "ename": "NameError",
     "evalue": "name 'pd' is not defined",
     "output_type": "error",
     "traceback": [
      "\u001b[0;31m---------------------------------------------------------------------------\u001b[0m",
      "\u001b[0;31mNameError\u001b[0m                                 Traceback (most recent call last)",
      "\u001b[0;32m<ipython-input-1-6adc25d0a597>\u001b[0m in \u001b[0;36m<module>\u001b[0;34m\u001b[0m\n\u001b[0;32m----> 1\u001b[0;31m \u001b[0mhh_update\u001b[0m\u001b[0;34m[\u001b[0m\u001b[0;34m'hhinccat1'\u001b[0m\u001b[0;34m]\u001b[0m \u001b[0;34m=\u001b[0m \u001b[0mpd\u001b[0m\u001b[0;34m.\u001b[0m\u001b[0mcut\u001b[0m\u001b[0;34m(\u001b[0m\u001b[0mhh_update\u001b[0m\u001b[0;34m[\u001b[0m\u001b[0;34m'hh_income_2000'\u001b[0m\u001b[0;34m]\u001b[0m\u001b[0;34m,\u001b[0m \u001b[0;34m[\u001b[0m\u001b[0;34m-\u001b[0m\u001b[0mnp\u001b[0m\u001b[0;34m.\u001b[0m\u001b[0minf\u001b[0m\u001b[0;34m,\u001b[0m \u001b[0;36m20000\u001b[0m\u001b[0;34m,\u001b[0m \u001b[0;36m50000\u001b[0m\u001b[0;34m,\u001b[0m \u001b[0;36m100000\u001b[0m\u001b[0;34m,\u001b[0m \u001b[0mnp\u001b[0m\u001b[0;34m.\u001b[0m\u001b[0minf\u001b[0m\u001b[0;34m]\u001b[0m\u001b[0;34m,\u001b[0m \u001b[0mlabels\u001b[0m \u001b[0;34m=\u001b[0m \u001b[0;34m[\u001b[0m\u001b[0;36m1\u001b[0m\u001b[0;34m,\u001b[0m \u001b[0;36m2\u001b[0m\u001b[0;34m,\u001b[0m \u001b[0;36m3\u001b[0m\u001b[0;34m,\u001b[0m \u001b[0;36m4\u001b[0m\u001b[0;34m]\u001b[0m\u001b[0;34m)\u001b[0m\u001b[0;34m.\u001b[0m\u001b[0mvalues\u001b[0m\u001b[0;34m.\u001b[0m\u001b[0madd_categories\u001b[0m\u001b[0;34m(\u001b[0m\u001b[0;36m999\u001b[0m\u001b[0;34m)\u001b[0m\u001b[0;34m\u001b[0m\u001b[0;34m\u001b[0m\u001b[0m\n\u001b[0m\u001b[1;32m      2\u001b[0m \u001b[0mhh_update\u001b[0m\u001b[0;34m.\u001b[0m\u001b[0mloc\u001b[0m\u001b[0;34m[\u001b[0m\u001b[0mpd\u001b[0m\u001b[0;34m.\u001b[0m\u001b[0misna\u001b[0m\u001b[0;34m(\u001b[0m\u001b[0mhh_update\u001b[0m\u001b[0;34m[\u001b[0m\u001b[0;34m'HINCP'\u001b[0m\u001b[0;34m]\u001b[0m\u001b[0;34m)\u001b[0m\u001b[0;34m,\u001b[0m \u001b[0;34m'hhinccat1'\u001b[0m\u001b[0;34m]\u001b[0m \u001b[0;34m=\u001b[0m \u001b[0;36m999\u001b[0m\u001b[0;34m\u001b[0m\u001b[0;34m\u001b[0m\u001b[0m\n\u001b[1;32m      3\u001b[0m \u001b[0mhh_update\u001b[0m\u001b[0;34m[\u001b[0m\u001b[0;34m'hhinccat1'\u001b[0m\u001b[0;34m]\u001b[0m\u001b[0;34m.\u001b[0m\u001b[0mvalue_counts\u001b[0m\u001b[0;34m(\u001b[0m\u001b[0;34m)\u001b[0m\u001b[0;34m\u001b[0m\u001b[0;34m\u001b[0m\u001b[0m\n",
      "\u001b[0;31mNameError\u001b[0m: name 'pd' is not defined"
     ]
    }
   ],
   "source": [
    "hh_update['hhinccat1'] = pd.cut(hh_update['hh_income_2000'], [-np.inf, 20000, 50000, 100000, np.inf], labels = [1, 2, 3, 4]).values.add_categories(999)\n",
    "hh_update.loc[pd.isna(hh_update['HINCP']), 'hhinccat1'] = 999\n",
    "hh_update['hhinccat1'].value_counts()"
   ]
  },
  {
   "cell_type": "code",
   "execution_count": 11,
   "metadata": {},
   "outputs": [
    {
     "data": {
      "text/plain": [
       "3    458304\n",
       "1    103750\n",
       "2     46776\n",
       "Name: pstudent, dtype: int64"
      ]
     },
     "execution_count": 11,
     "metadata": {},
     "output_type": "execute_result"
    }
   ],
   "source": [
    "per_update['pstudent'] = 999\n",
    "per_update.loc[per_update['SCHG']<=14, 'pstudent'] = 1 # pre-school through grade 12 student\n",
    "per_update.loc[(per_update['SCHG']==15)|(per_update['SCHG']==16), 'pstudent'] = 2 # university/professional school student\n",
    "per_update.loc[pd.isna(per_update['SCHG']), 'pstudent'] = 3 # non-student\n",
    "per_update.loc[pd.isnull(per_update['SCHG']), 'pstudent'] = 3 # non-student\n",
    "per_update['pstudent'].value_counts()"
   ]
  },
  {
   "cell_type": "code",
   "execution_count": 9,
   "metadata": {},
   "outputs": [
    {
     "data": {
      "text/plain": [
       "<bound method Series.__len__ of 2          3\n",
       "3          3\n",
       "4          3\n",
       "5          3\n",
       "9          3\n",
       "27         3\n",
       "28         3\n",
       "29         3\n",
       "30         3\n",
       "31         1\n",
       "32         3\n",
       "33         3\n",
       "34         3\n",
       "35         3\n",
       "36         1\n",
       "37         1\n",
       "38         1\n",
       "39         3\n",
       "41         3\n",
       "42         3\n",
       "47         3\n",
       "63         3\n",
       "64         3\n",
       "65         3\n",
       "75         3\n",
       "82         3\n",
       "84         3\n",
       "85         3\n",
       "86         2\n",
       "87         3\n",
       "          ..\n",
       "1887323    3\n",
       "1887324    3\n",
       "1887325    3\n",
       "1887326    3\n",
       "1887346    3\n",
       "1887352    3\n",
       "1887353    3\n",
       "1887361    3\n",
       "1887362    3\n",
       "1887399    3\n",
       "1887400    3\n",
       "1887403    3\n",
       "1887404    3\n",
       "1887406    3\n",
       "1887432    3\n",
       "1887433    3\n",
       "1887436    3\n",
       "1887437    3\n",
       "1887440    3\n",
       "1887441    3\n",
       "1887442    3\n",
       "1887443    2\n",
       "1887444    3\n",
       "1887447    3\n",
       "1887448    3\n",
       "1887449    3\n",
       "1887450    1\n",
       "1887451    3\n",
       "1887452    3\n",
       "1887453    2\n",
       "Name: pstudent, Length: 608830, dtype: int64>"
      ]
     },
     "execution_count": 9,
     "metadata": {},
     "output_type": "execute_result"
    }
   ],
   "source": [
    "per_update['pstudent'].__len__"
   ]
  },
  {
   "cell_type": "code",
   "execution_count": null,
   "metadata": {},
   "outputs": [],
   "source": []
  }
 ],
 "metadata": {
  "interpreter": {
   "hash": "31f2aee4e71d21fbe5cf8b01ff0e069b9275f58929596ceb00d14d90e3e16cd6"
  },
  "kernelspec": {
   "display_name": "Python 3.8.9 64-bit",
   "language": "python",
   "name": "python3"
  },
  "language_info": {
   "codemirror_mode": {
    "name": "ipython",
    "version": 3
   },
   "file_extension": ".py",
   "mimetype": "text/x-python",
   "name": "python",
   "nbconvert_exporter": "python",
   "pygments_lexer": "ipython3",
   "version": "3.7.1"
  },
  "orig_nbformat": 4
 },
 "nbformat": 4,
 "nbformat_minor": 2
}
